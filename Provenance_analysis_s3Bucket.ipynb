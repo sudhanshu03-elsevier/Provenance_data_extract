{
 "cells": [
  {
   "cell_type": "markdown",
   "metadata": {},
   "source": [
    "### Importing libraries"
   ]
  },
  {
   "cell_type": "code",
   "execution_count": 1,
   "metadata": {},
   "outputs": [],
   "source": [
    "import pandas as pd\n",
    "from pathlib import Path\n",
    "from datetime import date\n",
    "from provenance_data_extract_package import prov_packages\n",
    "package = prov_packages()"
   ]
  },
  {
   "cell_type": "markdown",
   "metadata": {},
   "source": [
    "##### - Hashout the below line if you would like to extract the provenance data from a Standalone file present in the Input_files folder"
   ]
  },
  {
   "cell_type": "code",
   "execution_count": 3,
   "metadata": {},
   "outputs": [],
   "source": [
    "# df_standalone_file = package.standalone_file_data_extract()\n",
    "# df_standalone_file.to_excel(\"Summary_Report/StandaloneFile_Report.xlsx\",index=False,sheet_name=\"Summary\")"
   ]
  },
  {
   "cell_type": "markdown",
   "metadata": {},
   "source": [
    "### Execution"
   ]
  },
  {
   "cell_type": "markdown",
   "metadata": {},
   "source": [
    "##### Select the Testset and the comparator bucket"
   ]
  },
  {
   "cell_type": "code",
   "execution_count": null,
   "metadata": {},
   "outputs": [],
   "source": [
    "Testset_BUCKET_NAME = package.select_bucket(description='Testset')\n",
    "Comparator_BUCKET_NAME = package.select_bucket(description='Comparator')"
   ]
  },
  {
   "cell_type": "markdown",
   "metadata": {},
   "source": [
    "##### Select the testruns for Testset and comparator"
   ]
  },
  {
   "cell_type": "code",
   "execution_count": null,
   "metadata": {},
   "outputs": [],
   "source": [
    "testset = package.response_sub_bucket(bucket_name=Testset_BUCKET_NAME.value,title=\"Testset\")\n",
    "comparator = package.response_sub_bucket(bucket_name=Comparator_BUCKET_NAME.value,title=\"Comparator\")"
   ]
  },
  {
   "cell_type": "code",
   "execution_count": 5,
   "metadata": {},
   "outputs": [],
   "source": [
    "test_int_filename = package.sub_bucket_folders(BUCKET_NAME=Testset_BUCKET_NAME.value,Prefix=testset.value)\n",
    "compar_int_filename = package.sub_bucket_folders(BUCKET_NAME=Comparator_BUCKET_NAME.value,Prefix=comparator.value)\n",
    "testset_prefix_name = f\"{testset.value}{test_int_filename}/\"\n",
    "comparator_prefix_name = f\"{comparator.value}{compar_int_filename}/\"\n",
    "try:     \n",
    "    testset_files = package.get_filenames(BUCKET_NAME=Testset_BUCKET_NAME.value,prefix_name=testset_prefix_name)\n",
    "    comparator_files = package.get_filenames(BUCKET_NAME=Comparator_BUCKET_NAME.value,prefix_name=comparator_prefix_name)\n",
    "    if len(comparator_files)==len(testset_files):\n",
    "        dict_services = package.extract_data(testset_files=testset_files,comparator_files=comparator_files,Testset_BUCKET_NAME=Testset_BUCKET_NAME.value,Comparator_BUCKET_NAME=Comparator_BUCKET_NAME.value)\n",
    "    else:\n",
    "        dict_services = None\n",
    "except Exception as e:\n",
    "     print(str(e))"
   ]
  },
  {
   "cell_type": "markdown",
   "metadata": {},
   "source": [
    "### Exporting summary report"
   ]
  },
  {
   "cell_type": "code",
   "execution_count": 6,
   "metadata": {},
   "outputs": [],
   "source": [
    "if dict_services==None:\n",
    "    print('No data extracted!!')\n",
    "else:\n",
    "    path = Path(\"Summary_Report\")\n",
    "    path.mkdir(parents=True,exist_ok=True)\n",
    "    gitkeep_file = path / \".gitkeep\"\n",
    "    with open(gitkeep_file, 'w') as f:\n",
    "        f.write(\"dummy file\")\n",
    "    comp_test = str(testset_files[0].split('/')[-3].split('+')[1])+\"--\"+str(comparator_files[0].split('/')[-3].split('+')[1])\n",
    "    file_name = f\"ProvSummary_{Testset_BUCKET_NAME.value}__{Comparator_BUCKET_NAME.value}_{comp_test}_{date.today()}\"  \n",
    "    df_out = pd.DataFrame()\n",
    "    for sheet in list(dict_services.keys()):\n",
    "        df_add = dict_services[sheet]\n",
    "        df_out = pd.concat([df_out,df_add],ignore_index=True).reset_index(drop=True)\n",
    "\n",
    "    df_final = df_out.style.map(package.highlight_true, subset=df_out.columns[-2:])\n",
    "    df_final.to_excel(f\"{path}/{file_name}.xlsx\",index=False,sheet_name=\"Summary_Report\")\n",
    "    "
   ]
  },
  {
   "cell_type": "code",
   "execution_count": null,
   "metadata": {},
   "outputs": [],
   "source": []
  },
  {
   "cell_type": "code",
   "execution_count": null,
   "metadata": {},
   "outputs": [],
   "source": []
  }
 ],
 "metadata": {
  "kernelspec": {
   "display_name": "Python 3",
   "language": "python",
   "name": "python3"
  },
  "language_info": {
   "codemirror_mode": {
    "name": "ipython",
    "version": 3
   },
   "file_extension": ".py",
   "mimetype": "text/x-python",
   "name": "python",
   "nbconvert_exporter": "python",
   "pygments_lexer": "ipython3",
   "version": "3.10.5"
  }
 },
 "nbformat": 4,
 "nbformat_minor": 2
}
