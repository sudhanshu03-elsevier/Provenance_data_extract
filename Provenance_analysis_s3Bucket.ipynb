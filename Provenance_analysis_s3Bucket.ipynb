{
 "cells": [
  {
   "cell_type": "markdown",
   "metadata": {},
   "source": [
    "### Importing libraries"
   ]
  },
  {
   "cell_type": "code",
   "execution_count": 1,
   "metadata": {},
   "outputs": [],
   "source": [
    "import os\n",
    "import pandas as pd\n",
    "from pathlib import Path\n",
    "from datetime import date\n",
    "from provenance_data_extract_package import prov_packages"
   ]
  },
  {
   "cell_type": "markdown",
   "metadata": {},
   "source": [
    "### Execution"
   ]
  },
  {
   "cell_type": "code",
   "execution_count": 2,
   "metadata": {},
   "outputs": [],
   "source": [
    "package = prov_packages()"
   ]
  },
  {
   "cell_type": "markdown",
   "metadata": {},
   "source": [
    "##### Select the Testset and the comparator bucket"
   ]
  },
  {
   "cell_type": "code",
   "execution_count": 5,
   "metadata": {},
   "outputs": [
    {
     "data": {
      "application/vnd.jupyter.widget-view+json": {
       "model_id": "8f984efed2824f928ea088b5e06c9a7f",
       "version_major": 2,
       "version_minor": 0
      },
      "text/plain": [
       "Dropdown(description='Testset:', index=21, options=('290244732740-eu-west-1-s3-logs', '290244732740-mnist', '2…"
      ]
     },
     "metadata": {},
     "output_type": "display_data"
    },
    {
     "data": {
      "application/vnd.jupyter.widget-view+json": {
       "model_id": "e72cae70449f4496a955fceb7fbf928f",
       "version_major": 2,
       "version_minor": 0
      },
      "text/plain": [
       "Dropdown(description='Comparator:', index=21, options=('290244732740-eu-west-1-s3-logs', '290244732740-mnist',…"
      ]
     },
     "metadata": {},
     "output_type": "display_data"
    }
   ],
   "source": [
    "Testset_BUCKET_NAME = package.select_bucket(description='Testset')\n",
    "Comparator_BUCKET_NAME = package.select_bucket(description='Comparator')"
   ]
  },
  {
   "cell_type": "markdown",
   "metadata": {},
   "source": [
    "##### Select the testruns for Testset and comparator"
   ]
  },
  {
   "cell_type": "code",
   "execution_count": 6,
   "metadata": {},
   "outputs": [
    {
     "data": {
      "application/vnd.jupyter.widget-view+json": {
       "model_id": "bffa035eafc4472aa5d62a92b98475d2",
       "version_major": 2,
       "version_minor": 0
      },
      "text/plain": [
       "Dropdown(description='Testset', layout=Layout(width='300px'), options=('06June2024-uat-2.2ktesting-manualindex…"
      ]
     },
     "metadata": {},
     "output_type": "display_data"
    },
    {
     "data": {
      "application/vnd.jupyter.widget-view+json": {
       "model_id": "fd2463915463446d84dd8a6975ebb293",
       "version_major": 2,
       "version_minor": 0
      },
      "text/plain": [
       "Dropdown(description='Comparator', layout=Layout(width='300px'), options=('06June2024-uat-2.2ktesting-manualin…"
      ]
     },
     "metadata": {},
     "output_type": "display_data"
    },
    {
     "name": "stdout",
     "output_type": "stream",
     "text": [
      "Testset: 15thOct2024-retry-fixes-test-run/\n"
     ]
    }
   ],
   "source": [
    "testset = package.response_sub_bucket(bucket_name=Testset_BUCKET_NAME.value,title=\"Testset\")\n",
    "comparator = package.response_sub_bucket(bucket_name=Comparator_BUCKET_NAME.value,title=\"Comparator\")"
   ]
  },
  {
   "cell_type": "code",
   "execution_count": 7,
   "metadata": {},
   "outputs": [],
   "source": [
    "testset_prefix_name = f\"{testset.value}intermediate-responses/\"\n",
    "comparator_prefix_name = f\"{comparator.value}intermediate-responses/\"\n",
    "testset_files = package.get_filenames(BUCKET_NAME=Testset_BUCKET_NAME.value,prefix_name=testset_prefix_name)\n",
    "comparator_files = package.get_filenames(BUCKET_NAME=Comparator_BUCKET_NAME.value,prefix_name=comparator_prefix_name)\n",
    "\n",
    "testset_files = [i for i in testset_files if i.split('/')[-2] not in [\"field_extraction\",\"format_conversion\",\"text_to_attributes\"]]\n",
    "comparator_files = [i for i in comparator_files if i.split('/')[-2] not in [\"field_extraction\",\"format_conversion\",\"text_to_attributes\"]]\n",
    "\n",
    "testset_services = package.services_data(testset_files,BUCKET_NAME=Testset_BUCKET_NAME.value)\n",
    "comparator_services = package.services_data(comparator_files,BUCKET_NAME=Comparator_BUCKET_NAME.value)\n",
    "services_list = [\"termite\",\"xpath_union\",\"entity_tag\",\"entity_subheading\",\"label_and_weight\",\"streaming_relevancy\"]\n",
    "\n",
    "services_used_counts = {}\n",
    "for key in services_list:\n",
    "        services_used_counts[key] = {f\"Comparator_{comparator_files[0].split('/')[0]}-{comparator_files[0].split('/')[2]}\":[\"No diff\"] if not list(package.match_pattern(comparator_services[key])-package.match_pattern(testset_services[key])) else list(package.match_pattern(comparator_services[key])-package.match_pattern(testset_services[key])),\n",
    "                          f\"Testset_{testset_files[0].split('/')[0]}-{testset_files[0].split('/')[2]}\": [\"No diff\"] if not list(package.match_pattern(testset_services[key])-package.match_pattern(comparator_services[key])) else list(package.match_pattern(testset_services[key])-package.match_pattern(comparator_services[key]))}\n",
    "\n",
    "\n",
    "dict_services = {}\n",
    "for service in services_used_counts.keys():\n",
    "    dict_services[service] = pd.DataFrame(services_used_counts[service])"
   ]
  },
  {
   "cell_type": "markdown",
   "metadata": {},
   "source": [
    "### Exporting summary report"
   ]
  },
  {
   "cell_type": "code",
   "execution_count": 9,
   "metadata": {},
   "outputs": [],
   "source": [
    "path = Path(\"Summary_Report\")\n",
    "path.mkdir(parents=True,exist_ok=True)\n",
    "comp_test = str(testset_files[0].split('/')[-3])+\"--\"+str(comparator_files[0].split('/')[-3])\n",
    "file_name = f\"ProvSummary_{Testset_BUCKET_NAME.value}__{Comparator_BUCKET_NAME.value}_{comp_test}_{date.today()}\"\n",
    "writers = pd.ExcelWriter(f\"{path}/{file_name}.xlsx\",engine='openpyxl')\n",
    "for sheet in dict_services.keys():\n",
    "    dict_services[sheet].to_excel(writers,sheet_name=sheet,index=False)\n",
    "writers.close()"
   ]
  },
  {
   "cell_type": "code",
   "execution_count": null,
   "metadata": {},
   "outputs": [],
   "source": []
  },
  {
   "cell_type": "code",
   "execution_count": null,
   "metadata": {},
   "outputs": [],
   "source": []
  }
 ],
 "metadata": {
  "kernelspec": {
   "display_name": "Python 3",
   "language": "python",
   "name": "python3"
  },
  "language_info": {
   "codemirror_mode": {
    "name": "ipython",
    "version": 3
   },
   "file_extension": ".py",
   "mimetype": "text/x-python",
   "name": "python",
   "nbconvert_exporter": "python",
   "pygments_lexer": "ipython3",
   "version": "3.10.5"
  }
 },
 "nbformat": 4,
 "nbformat_minor": 2
}
